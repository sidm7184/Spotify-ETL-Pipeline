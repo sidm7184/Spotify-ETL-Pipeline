{
 "cells": [
  {
   "cell_type": "code",
   "execution_count": null,
   "id": "ba5d7568",
   "metadata": {},
   "outputs": [],
   "source": [
    "#Install the needed libraries\n",
    "!pip3 install bs4\n",
    "!pip3 install pandas\n",
    "!pip3 install selenium\n",
    "!pip3 install boto3\n",
    "!pip3 install psycopg2-binary"
   ]
  },
  {
   "cell_type": "code",
   "execution_count": null,
   "id": "893078d5",
   "metadata": {},
   "outputs": [],
   "source": [
    "#Import the needed libraries for this project\n",
    "import requests\n",
    "import pandas as pd\n",
    "import time\n",
    "import re\n",
    "import psycopg2\n",
    "import boto3\n",
    "from datetime import date\n",
    "from selenium import webdriver\n",
    "from selenium.webdriver.chrome.options import Options\n",
    "from bs4 import BeautifulSoup\n",
    "from io import StringIO "
   ]
  },
  {
   "cell_type": "code",
   "execution_count": null,
   "id": "c78f62a2",
   "metadata": {},
   "outputs": [],
   "source": [
    "#To get the data from Spotify we will be sending the requests to the Spotify API\n",
    "#We will not be using the spotipy library, instead all requests will be made manually "
   ]
  },
  {
   "cell_type": "code",
   "execution_count": null,
   "id": "65dca507",
   "metadata": {},
   "outputs": [],
   "source": [
    "#Get the access token needed to make the API call and use the access token to make a request to the Spotify API\n",
    "\n",
    "\n",
    "#Get the client id and client secret from Spotify\n",
    "CLIENT_ID = '85b72157af5448498f1374633c01162e'\n",
    "CLIENT_SECRET = '7e871a9f34524944a3f1908549c2d3a6'\n",
    "\n",
    "#Send a post request to the auth endpoint to get the client credentials \n",
    "AUTH_URL = 'https://accounts.spotify.com/api/token'\n",
    "\n",
    "auth_response = requests.post(AUTH_URL, {\n",
    "    'grant_type': 'client_credentials',\n",
    "    'client_id': CLIENT_ID,\n",
    "    'client_secret': CLIENT_SECRET,\n",
    "})\n",
    "\n",
    "#Convert the response to JSON\n",
    "auth_response_data = auth_response.json()\n",
    "\n",
    "#Save the access token\n",
    "access_token = auth_response_data['access_token']\n",
    "\n",
    "#Define the headers for making the requests\n",
    "headers = {\n",
    "    'Authorization': 'Bearer {token}'.format(token=access_token)\n",
    "}\n",
    "\n",
    "#Get the base URL of all Spotify API endpoints\n",
    "BASE_URL = 'https://api.spotify.com/v1/'"
   ]
  },
  {
   "cell_type": "code",
   "execution_count": null,
   "id": "9e9a77d1",
   "metadata": {},
   "outputs": [],
   "source": [
    "#Use the access token to make a request to the Spotify API\n",
    "\n",
    "#Define the headers for making the requests\n",
    "headers = {\n",
    "    'Authorization': 'Bearer {token}'.format(token=access_token)\n",
    "}\n",
    "\n",
    "#Get the base URL of all Spotify API endpoints\n",
    "BASE_URL = 'https://api.spotify.com/v1/'"
   ]
  },
  {
   "cell_type": "code",
   "execution_count": null,
   "id": "cff70c9f",
   "metadata": {},
   "outputs": [],
   "source": [
    "#Make a request to the get playlist items endpoint to get the playlists information\n",
    "\n",
    "#Get the playlist id\n",
    "playlist_id='37i9dQZEVXbMDoHDwVN2tF'\n",
    "\n",
    "#Send a get requests to the formatted endpoint to get the playlist items\n",
    "r = requests.get(BASE_URL + 'playlists/' + playlist_id +'/tracks', headers=headers)\n",
    "r = r.json()"
   ]
  },
  {
   "cell_type": "code",
   "execution_count": null,
   "id": "7fe1dcf0",
   "metadata": {},
   "outputs": [],
   "source": [
    "#Clean up the request and get the following information artist name, artist id, song name, song id\n",
    "#Store data in a dataframe\n",
    "\n",
    "#Declare the dataframe with the defined columns\n",
    "top_50_df = pd.DataFrame(columns = [\"song_name\", \"song_id\", \"artist_name\",\"artist_id\"])\n",
    "\n",
    "playlist_items=r['items']\n",
    "\n",
    "for item in playlist_items:\n",
    "    song_name=item['track']['name']\n",
    "    song_id=item['track']['id']\n",
    "    for artist in item['track']['album']['artists']:\n",
    "        artist_id=artist['id']\n",
    "        artist_name=artist['name']\n",
    "        new_row = pd.DataFrame({'song_name':song_name, 'song_id':song_id, 'artist_name':artist_name, 'artist_id':artist_id},index=[0])\n",
    "        top_50_df = pd.concat([new_row,top_50_df.loc[:]]).reset_index(drop=True)\n",
    "top_50_df"
   ]
  },
  {
   "cell_type": "code",
   "execution_count": null,
   "id": "e3e30e5f",
   "metadata": {},
   "outputs": [],
   "source": [
    "#Get the number of times this song has been played \n",
    "#This information is not available in the Spotify API and will be scraped from the Spotify web page\n",
    "options = Options()\n",
    "options.headless = True\n",
    "options.add_argument(\"--window-size=1920,3000\")\n",
    "\n",
    "driver = webdriver.Chrome(options=options, executable_path='/Users/sidm7184/Downloads/chromedriver_mac_arm64/chromedriver')\n",
    "driver.get(\"https://open.spotify.com/playlist/37i9dQZEVXbMDoHDwVN2tF\")\n",
    "time.sleep(5)\n",
    "html = driver.page_source\n",
    "soup = BeautifulSoup(html, \"html.parser\")\n",
    "songs_with_plays=soup.find_all('div',{'role':'row'})[1::]\n",
    "\n",
    "records={}\n",
    "for song in songs_with_plays:\n",
    "    songname=song.find('div',{'class':'Type__TypeElement-sc-goli3j-0 kHHFyx t_yrXoUO3qGsJS4Y6iXX standalone-ellipsis-one-line'}).get_text()\n",
    "    plays=song.find('div',{'Type__TypeElement-sc-goli3j-0 hGXzYa nYg_xsOVmrVE_8qk1GCW'}).get_text()\n",
    "    records[songname]=plays.replace(\",\", \"\")\n",
    "top_50_df['plays'] = top_50_df['song_name'].map(records) \n",
    "top_50_df"
   ]
  },
  {
   "cell_type": "code",
   "execution_count": null,
   "id": "bb21fffe",
   "metadata": {},
   "outputs": [],
   "source": [
    "#Get the information on the songs audio features\n",
    "song_ids=top_50_df['song_id'].to_list()\n",
    "song_ids=list(set(song_ids))\n",
    "\n",
    "song_features=[]\n",
    "\n",
    "for song in song_ids:\n",
    "    audio_feats = requests.get(BASE_URL + 'audio-features/'+ song, headers=headers)\n",
    "    audio_feats = audio_feats.json()\n",
    "    \n",
    "    song_features.append(audio_feats)\n",
    "song_features_df=pd.DataFrame(song_features)\n",
    "song_features_df\n",
    "top_50_df = pd.merge(left=top_50_df, right=song_features_df, left_on='song_id', right_on='id')\n",
    "top_50_df=top_50_df.drop(['id', 'uri','track_href','analysis_url','type','time_signature'], axis=1)\n",
    "top_50_df"
   ]
  },
  {
   "cell_type": "code",
   "execution_count": null,
   "id": "f8f84435",
   "metadata": {},
   "outputs": [],
   "source": [
    "date=date.today()\n",
    "top_50_df['date'] =[date for i in range(len(top_50_df))]\n",
    "top_50_df['month'] =[date.month for i in range(len(top_50_df))]\n",
    "top_50_df['month_name'] =[date.strftime(\"%B\") for i in range(len(top_50_df))]\n",
    "top_50_df['day_of_month'] =[date.day for i in range(len(top_50_df))]\n",
    "top_50_df['day_of_week'] =[date.today().weekday() for i in range(len(top_50_df))]\n",
    "top_50_df['day_name'] =[date.strftime(\"%A\") for i in range(len(top_50_df))]\n",
    "top_50_df['quarter'] =[((date.month)//3)+1 for i in range(len(top_50_df))]\n",
    "\n",
    "top_50_df"
   ]
  },
  {
   "cell_type": "code",
   "execution_count": null,
   "id": "8cbffa07",
   "metadata": {},
   "outputs": [],
   "source": [
    "#put the dataframe into an s3 bucket as a csv\n",
    "s3 = boto3.resource(\"s3\")\n",
    "csv_buffer = StringIO()\n",
    "top_50_df.to_csv(csv_buffer)\n",
    "bucket_name = 'spotify-etl'\n",
    "s3_object_name = '{} Top 50 Songs Global'.format(date.today())\n",
    "s3.Object(bucket_name, s3_object_name).put(Body=csv_buffer.getvalue())\n",
    "print(\"Dataframe is saved as CSV in S3 bucket.\")"
   ]
  },
  {
   "cell_type": "code",
   "execution_count": null,
   "id": "014622b4",
   "metadata": {},
   "outputs": [],
   "source": [
    "#Connect to postgreSQL\n",
    "print(list(top_50_df))\n",
    "top_50_df"
   ]
  },
  {
   "cell_type": "code",
   "execution_count": null,
   "id": "eeee0d46",
   "metadata": {},
   "outputs": [],
   "source": [
    "try:\n",
    "    #connect to the default database\n",
    "    conn = psycopg2.connect(database=\"postgres\", user='postgres', password='postgres', host='localhost', port= '5432')\n",
    "    conn.set_session(autocommit=True)\n",
    "    cur = conn.cursor()\n",
    "    \n",
    "    #create a sparkify database with UTF8 encoding\n",
    "    cur.execute(\"DROP DATABASE IF EXISTS playlistdata;\")\n",
    "    cur.execute(\"CREATE DATABASE playlistdata;\")\n",
    "    \n",
    "    #close default database\n",
    "    conn.close()\n",
    "    \n",
    "    #connect to sparkify database\n",
    "    conn = psycopg2.connect(database=\"playlistdata\", user='postgres', password='postgres', host='localhost', port= '5432')\n",
    "    conn.set_session(autocommit=True)\n",
    "    cur = conn.cursor()\n",
    "    print(\"Connection Successful\")\n",
    "except psycopg2.Error as e:\n",
    "    print(\"Error could not connect to the database\")\n",
    "    print(e)"
   ]
  },
  {
   "cell_type": "code",
   "execution_count": null,
   "id": "a6457edf",
   "metadata": {},
   "outputs": [],
   "source": [
    "#Query for making the songs table\n",
    "create_songs_table=\"\"\"\n",
    "CREATE TABLE songs (\n",
    "  song_id TEXT,\n",
    "  name TEXT,\n",
    "  danceability numeric (10,2),\n",
    "  energy numeric (10,2),\n",
    "  key numeric (10,2),\n",
    "  loudness numeric (10,2),\n",
    "  mode numeric (10,2),\n",
    "  speechiness numeric (10,2),\n",
    "  acousticness numeric (10,2),\n",
    "  instrumentalness numeric (10,2),\n",
    "  liveness numeric (10,2),\n",
    "  valence numeric (10,2),\n",
    "  tempo numeric (10,2),\n",
    "  duration_ms INTEGER,\n",
    "  PRIMARY KEY (song_id)\n",
    ");\n",
    "\"\"\"\n",
    "#Query for making the artists table\n",
    "create_artists_table='''\n",
    "CREATE TABLE artists (\n",
    "  artist_id TEXT,\n",
    "  name TEXT NOT NULL,\n",
    "  PRIMARY KEY (artist_id)\n",
    ");\n",
    "'''\n",
    "#Query for making the plays table\n",
    "create_song_artist_table=\"\"\"\n",
    "CREATE TABLE song_artists (\n",
    "  song_id TEXT REFERENCES songs (song_id),\n",
    "  artist_id TEXT REFERENCES artists (artist_id),\n",
    "  PRIMARY KEY (song_id,artist_id)\n",
    ");\n",
    "\"\"\"\n",
    "#Query for making the calendar table\n",
    "create_calendar_table='''\n",
    "CREATE TABLE calendar (\n",
    "  date DATE,\n",
    "  month INTEGER,\n",
    "  month_name TEXT,\n",
    "  day_of_month INTEGER,\n",
    "  day_of_week INTEGER,\n",
    "  day_name TEXT,\n",
    "  quarter INTEGER,\n",
    "  PRIMARY KEY (date)\n",
    ");\n",
    "'''\n",
    "#Query for making the plays table\n",
    "create_plays_table=\"\"\"\n",
    "CREATE TABLE plays (\n",
    "  song_id TEXT REFERENCES songs (song_id),\n",
    "  date DATE REFERENCES calendar (date),\n",
    "  song_plays numeric,\n",
    "  PRIMARY KEY (song_id,date)\n",
    ");\n",
    "\"\"\"\n",
    "cur.execute(create_songs_table)\n",
    "cur.execute(create_artists_table)\n",
    "cur.execute(create_song_artist_table)\n",
    "cur.execute(create_calendar_table)\n",
    "cur.execute(create_plays_table)\n",
    "print('Success')"
   ]
  },
  {
   "cell_type": "code",
   "execution_count": null,
   "id": "a49a75e8",
   "metadata": {},
   "outputs": [],
   "source": [
    "songs_df=top_50_df[['song_id','song_name','danceability','energy','key', \n",
    "                 'loudness', 'mode', 'speechiness', 'acousticness', 'instrumentalness',\n",
    "                 'liveness', 'valence', 'tempo', 'duration_ms']]\n",
    "\n",
    "songs_df=songs_df.drop_duplicates(subset='song_id', keep=\"last\").reset_index(drop=True)\n",
    "songs_df"
   ]
  },
  {
   "cell_type": "code",
   "execution_count": null,
   "id": "817377c9",
   "metadata": {},
   "outputs": [],
   "source": [
    "artists_df=top_50_df[['artist_id','artist_name']]\n",
    "artists_df=artists_df.drop_duplicates().reset_index(drop=True)\n",
    "artists_df"
   ]
  },
  {
   "cell_type": "code",
   "execution_count": null,
   "id": "54c5107b",
   "metadata": {},
   "outputs": [],
   "source": [
    "song_artist_df=top_50_df[['song_id','artist_id']]\n",
    "song_artist_df"
   ]
  },
  {
   "cell_type": "code",
   "execution_count": null,
   "id": "dcfc0252",
   "metadata": {},
   "outputs": [],
   "source": [
    "calendar_df=top_50_df[['date', 'month', 'month_name', 'day_of_month', 'day_of_week', 'day_name', 'quarter']]\n",
    "calendar_df=calendar_df.drop_duplicates().reset_index(drop=True)\n",
    "calendar_df"
   ]
  },
  {
   "cell_type": "code",
   "execution_count": null,
   "id": "3957e1b3",
   "metadata": {},
   "outputs": [],
   "source": [
    "plays_df=top_50_df[['song_id','date','plays']]\n",
    "plays_df=plays_df.drop_duplicates().reset_index(drop=True)\n",
    "plays_df"
   ]
  },
  {
   "cell_type": "code",
   "execution_count": null,
   "id": "d2b4ac55",
   "metadata": {},
   "outputs": [],
   "source": [
    "songs_insert='''\n",
    "INSERT INTO songs(\n",
    "  song_id,\n",
    "  name,\n",
    "  danceability,\n",
    "  energy,\n",
    "  key,\n",
    "  loudness,\n",
    "  mode,\n",
    "  speechiness,\n",
    "  acousticness,\n",
    "  instrumentalness,\n",
    "  liveness,\n",
    "  valence,\n",
    "  tempo,\n",
    "  duration_ms\n",
    "    ) VALUES (%s,%s,%s,%s,%s,%s,%s,%s,%s,%s,%s,%s,%s,%s);\n",
    "'''\n",
    "#Insert the data\n",
    "for i, row in songs_df.iterrows():\n",
    "    cur.execute(songs_insert,list(row))\n",
    "conn.commit()\n",
    "print(\"Success\")"
   ]
  },
  {
   "cell_type": "code",
   "execution_count": null,
   "id": "65a98f89",
   "metadata": {},
   "outputs": [],
   "source": [
    "artist_insert='''\n",
    "INSERT INTO artists(\n",
    "  artist_id,\n",
    "  name\n",
    "    ) VALUES (%s,%s);\n",
    "'''\n",
    "#Insert the data\n",
    "for i, row in artists_df.iterrows():\n",
    "    cur.execute(artist_insert,list(row))\n",
    "conn.commit()\n",
    "print(\"Success\")"
   ]
  },
  {
   "cell_type": "code",
   "execution_count": null,
   "id": "4e9f7db9",
   "metadata": {},
   "outputs": [],
   "source": [
    "song_artist_insert='''\n",
    "INSERT INTO song_artists(\n",
    "  song_id,\n",
    "  artist_id \n",
    "    ) VALUES (%s,%s);\n",
    "'''\n",
    "#Insert the data\n",
    "for i, row in song_artist_df.iterrows():\n",
    "    cur.execute(song_artist_insert,list(row))\n",
    "conn.commit()\n",
    "print(\"Success\")"
   ]
  },
  {
   "cell_type": "code",
   "execution_count": null,
   "id": "3843ee84",
   "metadata": {},
   "outputs": [],
   "source": [
    "calendar_insert='''\n",
    "INSERT INTO calendar(\n",
    "  date,\n",
    "  month,\n",
    "  month_name,\n",
    "  day_of_month,\n",
    "  day_of_week,\n",
    "  day_name,\n",
    "  quarter\n",
    "    ) VALUES (%s,%s,%s,%s,%s,%s,%s);\n",
    "'''\n",
    "#Insert the data\n",
    "for i, row in calendar_df.iterrows():\n",
    "    cur.execute(calendar_insert,list(row))\n",
    "conn.commit()\n",
    "print(\"Success\")"
   ]
  },
  {
   "cell_type": "code",
   "execution_count": null,
   "id": "11c3d229",
   "metadata": {},
   "outputs": [],
   "source": [
    "plays_insert='''\n",
    "INSERT INTO plays(\n",
    "  song_id,\n",
    "  date,\n",
    "  song_plays\n",
    "    ) VALUES (%s,%s,%s);\n",
    "'''\n",
    "#Insert the data\n",
    "for i, row in plays_df.iterrows():\n",
    "    cur.execute(plays_insert,list(row))\n",
    "conn.commit()\n",
    "print(\"Success\")"
   ]
  }
 ],
 "metadata": {
  "kernelspec": {
   "display_name": "Python 3 (ipykernel)",
   "language": "python",
   "name": "python3"
  },
  "language_info": {
   "codemirror_mode": {
    "name": "ipython",
    "version": 3
   },
   "file_extension": ".py",
   "mimetype": "text/x-python",
   "name": "python",
   "nbconvert_exporter": "python",
   "pygments_lexer": "ipython3",
   "version": "3.11.0"
  },
  "vscode": {
   "interpreter": {
    "hash": "aee8b7b246df8f9039afb4144a1f6fd8d2ca17a180786b69acc140d282b71a49"
   }
  }
 },
 "nbformat": 4,
 "nbformat_minor": 5
}
